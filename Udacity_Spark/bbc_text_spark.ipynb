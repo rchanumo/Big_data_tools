{
 "cells": [
  {
   "cell_type": "markdown",
   "metadata": {},
   "source": [
    "# BBC Text Categorization using Spark"
   ]
  },
  {
   "cell_type": "code",
   "execution_count": 1,
   "metadata": {},
   "outputs": [],
   "source": [
    "from pyspark.sql import SparkSession\n",
    "from pyspark.ml.feature import Tokenizer, HashingTF, IDF, StopWordsRemover, RegexTokenizer, StringIndexer\n",
    "from pyspark.ml.classification import LogisticRegression\n",
    "from pyspark.ml.evaluation import MulticlassClassificationEvaluator"
   ]
  },
  {
   "cell_type": "code",
   "execution_count": 2,
   "metadata": {},
   "outputs": [],
   "source": [
    "#Create Spark session\n",
    "#load data\n",
    "spark = SparkSession \\\n",
    "    .builder \\\n",
    "    .appName(\"Spark ML\") \\\n",
    "    .getOrCreate()\n",
    "\n",
    "df = spark.read.option('header',True).csv(\"data/bbc-text.csv\")"
   ]
  },
  {
   "cell_type": "code",
   "execution_count": 3,
   "metadata": {},
   "outputs": [
    {
     "data": {
      "text/plain": [
       "[Row(category='tech', text='tv future in the hands of viewers with home theatre systems  plasma high-definition tvs  and digital video recorders moving into the living room  the way people watch tv will be radically different in five years  time.  that is according to an expert panel which gathered at the annual consumer electronics show in las vegas to discuss how these new technologies will impact one of our favourite pastimes. with the us leading the trend  programmes and other content will be delivered to viewers via home networks  through cable  satellite  telecoms companies  and broadband service providers to front rooms and portable devices.  one of the most talked-about technologies of ces has been digital and personal video recorders (dvr and pvr). these set-top boxes  like the us s tivo and the uk s sky+ system  allow people to record  store  play  pause and forward wind tv programmes when they want.  essentially  the technology allows for much more personalised tv. they are also being built-in to high-definition tv sets  which are big business in japan and the us  but slower to take off in europe because of the lack of high-definition programming. not only can people forward wind through adverts  they can also forget about abiding by network and channel schedules  putting together their own a-la-carte entertainment. but some us networks and cable and satellite companies are worried about what it means for them in terms of advertising revenues as well as  brand identity  and viewer loyalty to channels. although the us leads in this technology at the moment  it is also a concern that is being raised in europe  particularly with the growing uptake of services like sky+.  what happens here today  we will see in nine months to a years  time in the uk   adam hume  the bbc broadcast s futurologist told the bbc news website. for the likes of the bbc  there are no issues of lost advertising revenue yet. it is a more pressing issue at the moment for commercial uk broadcasters  but brand loyalty is important for everyone.  we will be talking more about content brands rather than network brands   said tim hanlon  from brand communications firm starcom mediavest.  the reality is that with broadband connections  anybody can be the producer of content.  he added:  the challenge now is that it is hard to promote a programme with so much choice.   what this means  said stacey jolna  senior vice president of tv guide tv group  is that the way people find the content they want to watch has to be simplified for tv viewers. it means that networks  in us terms  or channels could take a leaf out of google s book and be the search engine of the future  instead of the scheduler to help people find what they want to watch. this kind of channel model might work for the younger ipod generation which is used to taking control of their gadgets and what they play on them. but it might not suit everyone  the panel recognised. older generations are more comfortable with familiar schedules and channel brands because they know what they are getting. they perhaps do not want so much of the choice put into their hands  mr hanlon suggested.  on the other end  you have the kids just out of diapers who are pushing buttons already - everything is possible and available to them   said mr hanlon.  ultimately  the consumer will tell the market they want.   of the 50 000 new gadgets and technologies being showcased at ces  many of them are about enhancing the tv-watching experience. high-definition tv sets are everywhere and many new models of lcd (liquid crystal display) tvs have been launched with dvr capability built into them  instead of being external boxes. one such example launched at the show is humax s 26-inch lcd tv with an 80-hour tivo dvr and dvd recorder. one of the us s biggest satellite tv companies  directtv  has even launched its own branded dvr at the show with 100-hours of recording capability  instant replay  and a search function. the set can pause and rewind tv for up to 90 hours. and microsoft chief bill gates announced in his pre-show keynote speech a partnership with tivo  called tivotogo  which means people can play recorded programmes on windows pcs and mobile devices. all these reflect the increasing trend of freeing up multimedia so that people can watch what they want  when they want.'),\n",
       " Row(category='business', text='worldcom boss  left books alone  former worldcom boss bernie ebbers  who is accused of overseeing an $11bn (£5.8bn) fraud  never made accounting decisions  a witness has told jurors.  david myers made the comments under questioning by defence lawyers who have been arguing that mr ebbers was not responsible for worldcom s problems. the phone company collapsed in 2002 and prosecutors claim that losses were hidden to protect the firm s shares. mr myers has already pleaded guilty to fraud and is assisting prosecutors.  on monday  defence lawyer reid weingarten tried to distance his client from the allegations. during cross examination  he asked mr myers if he ever knew mr ebbers  make an accounting decision  .  not that i am aware of   mr myers replied.  did you ever know mr ebbers to make an accounting entry into worldcom books   mr weingarten pressed.  no   replied the witness. mr myers has admitted that he ordered false accounting entries at the request of former worldcom chief financial officer scott sullivan. defence lawyers have been trying to paint mr sullivan  who has admitted fraud and will testify later in the trial  as the mastermind behind worldcom s accounting house of cards.  mr ebbers  team  meanwhile  are looking to portray him as an affable boss  who by his own admission is more pe graduate than economist. whatever his abilities  mr ebbers transformed worldcom from a relative unknown into a $160bn telecoms giant and investor darling of the late 1990s. worldcom s problems mounted  however  as competition increased and the telecoms boom petered out. when the firm finally collapsed  shareholders lost about $180bn and 20 000 workers lost their jobs. mr ebbers  trial is expected to last two months and if found guilty the former ceo faces a substantial jail sentence. he has firmly declared his innocence.'),\n",
       " Row(category='sport', text='tigers wary of farrell  gamble  leicester say they will not be rushed into making a bid for andy farrell should the great britain rugby league captain decide to switch codes.   we and anybody else involved in the process are still some way away from going to the next stage   tigers boss john wells told bbc radio leicester.  at the moment  there are still a lot of unknowns about andy farrell  not least his medical situation.  whoever does take him on is going to take a big  big gamble.  farrell  who has had persistent knee problems  had an operation on his knee five weeks ago and is expected to be out for another three months. leicester and saracens are believed to head the list of rugby union clubs interested in signing farrell if he decides to move to the 15-man game.  if he does move across to union  wells believes he would better off playing in the backs  at least initially.  i m sure he could make the step between league and union by being involved in the centre   said wells.  i think england would prefer him to progress to a position in the back row where they can make use of some of his rugby league skills within the forwards.  the jury is out on whether he can cross that divide.  at this club  the balance will have to be struck between the cost of that gamble and the option of bringing in a ready-made replacement.'),\n",
       " Row(category='sport', text='yeading face newcastle in fa cup premiership side newcastle united face a trip to ryman premier league leaders yeading in the fa cup third round.  the game - arguably the highlight of the draw - is a potential money-spinner for non-league yeading  who beat slough in the second round. conference side exeter city  who knocked out doncaster on saturday  will travel to old trafford to meet holders manchester united in january. arsenal were drawn at home to stoke and chelsea will play host to scunthorpe. the only other non-league side in the draw are hinckley united  who held brentford to a goalless draw on sunday. they will meet league one leaders luton if they win their replay against martin allen s team at griffin park.  a number of premiership teams face difficult away games against championship sides on the weekend of 8/9 january. third-placed everton visit plymouth  liverpool travel to burnley  crystal palace go to sunderland  fulham face carling cup semi-finalists watford  bolton meet ipswich  while aston villa were drawn against sheffield united. premiership strugglers norwich  blackburn  west brom are away at west ham  cardiff and preston north end respectively. southampton visit northampton  having already beaten the league two side in the carling cup earlier this season. middlesbrough were drawn away against either swindon or notts county  while spurs entertain brighton at white hart lane.  arsenal v stoke  swindon/notts co v middlesbrough  man utd v exeter  plymouth v everton  leicester v blackpool  derby v wigan  sunderland v crystal palace  wolves v millwall  yeading v newcastle  hull v colchester  tottenham v brighton  reading v stockport/swansea  birmingham v leeds  hartlepool v boston  milton keynes dons v peterborough  oldham v man city  chelsea v scunthorpe  cardiff v blackburn  charlton v rochdale  west ham v norwich  sheff utd v aston villa  preston v west brom  rotherham v yeovil  burnley v liverpool  bournemouth v chester  coventry v crewe  watford v fulham  ipswich v bolton  portsmouth v gillingham  northampton v southampton  qpr v nottm forest  luton v hinckley/brentford  matches to be played on weekend of 8/9 january.'),\n",
       " Row(category='entertainment', text='ocean s twelve raids box office ocean s twelve  the crime caper sequel starring george clooney  brad pitt and julia roberts  has gone straight to number one in the us box office chart.  it took $40.8m (£21m) in weekend ticket sales  according to studio estimates. the sequel follows the master criminals as they try to pull off three major heists across europe. it knocked last week s number one  national treasure  into third place. wesley snipes  blade: trinity was in second  taking $16.1m (£8.4m). rounding out the top five was animated fable the polar express  starring tom hanks  and festive comedy christmas with the kranks.  ocean s twelve box office triumph marks the fourth-biggest opening for a december release in the us  after the three films in the lord of the rings trilogy. the sequel narrowly beat its 2001 predecessor  ocean s eleven which took $38.1m (£19.8m) on its opening weekend and $184m (£95.8m) in total. a remake of the 1960s film  starring frank sinatra and the rat pack  ocean s eleven was directed by oscar-winning director steven soderbergh. soderbergh returns to direct the hit sequel which reunites clooney  pitt and roberts with matt damon  andy garcia and elliott gould. catherine zeta-jones joins the all-star cast.  it s just a fun  good holiday movie   said dan fellman  president of distribution at warner bros. however  us critics were less complimentary about the $110m (£57.2m) project  with the los angeles times labelling it a  dispiriting vanity project . a milder review in the new york times dubbed the sequel  unabashedly trivial .'),\n",
       " Row(category='politics', text='howard hits back at mongrel jibe michael howard has said a claim by peter hain that the tory leader is acting like an  attack mongrel  shows labour is  rattled  by the opposition.  in an upbeat speech to his party s spring conference in brighton  he said labour s campaigning tactics proved the tories were hitting home. mr hain made the claim about tory tactics in the anti-terror bill debate.  something tells me that someone  somewhere out there is just a little bit rattled   mr howard said. mr hain  leader of the commons  told bbc radio four s today programme that mr howard s stance on the government s anti-terrorism legislation was putting the country at risk. he then accused the tory leader of behaving like an  attack mongrel  and  playing opposition for opposition sake .  mr howard told his party that labour would  do anything  say anything  claim anything to cling on to office at all costs .  so far this year they have compared me to fagin  to shylock and to a flying pig. this morning peter hain even called me a mongrel.  i don t know about you  but something tells me that someone  somewhere out there is just a little bit rattled.  environment secretary margaret beckett rejected mr howard s comment  telling radio 4 s pm programme that labour was not  rattled .  we have a very real duty to try to get people to focus on michael howard s record  what the proposals are that he is trying to put forward to the country and also the many examples we are seeing now of what we believe is really poor judgement on his behalf.   mr howard said tory policies on schools  taxes  immigration and crime were striking a chord with voters.   since the beginning of this year - election year - we ve been making the political weather   he told the party conference. mr howard denied he had been  playing politics  by raising the case of margaret dixon  whose operation had been cancelled seven times  which grabbed headlines for the party two weeks ago. and he hit back at labour claims he had used mrs dixon as a  human shield .  she s not a human shield mr blair  she s a human being.  mr howard said his party plans for immigration quotas  which have also been the focus of much media coverage  were not  racist  - just  common sense .  he pledged cleaner hospitals and better school discipline  with a promise to get rid of  political correctness  in the national curriculum and give everyone to the same chance of a  decent  state education as he had.  i come from an ordinary family. if the teenage michael howard were applying to cambridge today  gordon brown would love me.   and he stressed his party s commitment to cut taxes and red tape and increase the basic state pension in line with earnings. he finished with a personal appeal to party activists to go out and win the next election.  one day you will be able to tell your children and grandchildren as i will tell mine   i was there. i did my bit. i played my part. i helped to win that famous election - the election that transformed our country for the better .  labour election co-ordinator alan milburn said:  michael howard s speech today confirms what we have always said - that his only strategy is opportunism but he has no forward vision for the country. in reference to the appearance of mr howard s family on the conference stage with him  mr milburn said:  michael howard is perfectly entitled to pose with his family today.  but it is the hard working families across britain that will be damaged by his plan to cut £35bn from public spending.'),\n",
       " Row(category='politics', text='blair prepares to name poll date tony blair is likely to name 5 may as election day when parliament returns from its easter break  the bbc s political editor has learned.  andrew marr says mr blair will ask the queen on 4 or 5 april to dissolve parliament at the end of that week. mr blair has so far resisted calls for him to name the day but all parties have stepped up campaigning recently. downing street would not be drawn on the claim  saying election timing was a matter for the prime minister.  a number 10 spokeswoman would only say:  he will announce an election when he wants to announce an election.  the move will signal a frantic week at westminster as the government is likely to try to get key legislation through parliament. the government needs its finance bill  covering the budget plans  to be passed before the commons closes for business at the end of the session on 7 april.  but it will also seek to push through its serious and organised crime bill and id cards bill. mr marr said on wednesday s today programme:  there s almost nobody at a senior level inside the government or in parliament itself who doesn t expect the election to be called on 4 or 5 april.  as soon as the commons is back after the short easter recess  tony blair whips up to the palace  asks the queen to dissolve parliament ... and we re going.  the labour government officially has until june 2006 to hold general election  but in recent years governments have favoured four-year terms.'),\n",
       " Row(category='sport', text='henman hopes ended in dubai third seed tim henman slumped to a straight sets defeat in his rain-interrupted dubai open quarter-final against ivan ljubicic.  the croatian eighth seed booked his place in the last four with a 7-5 6-4 victory over the british number one. henman had looked on course to level the match after going 2-0 up in the second set  but his progress was halted as the rain intervened again. ljubicic hit back after the break to seal a fourth straight win over henman. earlier in the day  spanish fifth seed tommy robredo secured his semi-final place when he beat nicolas kiefer of germany 6-4 6-4. afterwards  henman was left cursing the weather and the umpire after seven breaks for rain during the match.  it was incredibly frustrating   henman said.  it s raining and the umpire doesn t take control.  he kept telling us to play till the end of the game. but if it s raining  you come off - the score s irrelevant.  it couldn t be more frustrating as i was very happy with my form until now. you don t expect this in the desert.'),\n",
       " Row(category='sport', text='wilkinson fit to face edinburgh england captain jonny wilkinson will make his long-awaited return from injury against edinburgh on saturday.  wilkinson  who has not played since injuring his bicep on 17 october  took part in full-contact training with newcastle falcons on wednesday. and the 25-year-old fly-half will start saturday s heineken cup match at murrayfield on the bench. but newcastle director of rugby rob andrew said:  he s fine and we hope to get him into the game at some stage.  the 25-year-old missed england s autumn internationals after aggravating the haematoma in his upper right arm against saracens. he was subsequently replaced as england captain by full-back jason robinson. sale s charlie hodgson took over the number 10 shirt in the internationals against canada  south africa and australia. wilkinson s year has been disrupted by injury as his muscle problem followed eight months on the sidelines with a shoulder injury sustained in the world cup final.'),\n",
       " Row(category='entertainment', text='last star wars  not for children  the sixth and final star wars movie may not be suitable for young children  film-maker george lucas has said.  he told us tv show 60 minutes that revenge of the sith would be the darkest and most violent of the series.  i don t think i would take a five or six-year-old to this   he told the cbs programme  to be aired on sunday. lucas predicted the film would get a us rating advising parents some scenes may be unsuitable for under-13s. it opens in the uk and us on 19 may. he said he expected the film would be classified pg-13 - roughly equivalent to a british 12a rating.  the five previous star wars films have all carried less restrictive pg - parental guidance - ratings in the us. in the uk  they have all been passed u - suitable for all - with the exception of attack of the clones  which got a pg rating in 2002. revenge of the sith - the third prequel to the original 1977 star wars film - chronicles the transformation of the heroic anakin skywalker into the evil darth vader as he travels to a hell-like planet composed of erupting volcanoes and molten lava.  we re going to watch him make a pact with the devil   lucas said.  the film is much more dark  more emotional. it s much more of a tragedy.')]"
      ]
     },
     "execution_count": 3,
     "metadata": {},
     "output_type": "execute_result"
    }
   ],
   "source": [
    "df.head(10)"
   ]
  },
  {
   "cell_type": "code",
   "execution_count": 4,
   "metadata": {},
   "outputs": [],
   "source": [
    "#stratified split\n",
    "df_train = df.sampleBy(\"category\", {'sport':0.7, 'tech':0.7, 'politics':0.7, 'entertainment':0.7, 'business':0.7}, seed=10)\n",
    "df_test = df.subtract(df_train)"
   ]
  },
  {
   "cell_type": "code",
   "execution_count": 5,
   "metadata": {},
   "outputs": [],
   "source": [
    "#encode labels\n",
    "indexer = StringIndexer(inputCol=\"category\", outputCol=\"label\").fit(df_train)\n",
    "df_train = indexer.transform(df_train)"
   ]
  },
  {
   "cell_type": "code",
   "execution_count": 6,
   "metadata": {},
   "outputs": [],
   "source": [
    "#tokenize data\n",
    "regexTokenizer = RegexTokenizer(inputCol=\"text\", outputCol=\"tokens\", pattern=\"\\\\W\")\n",
    "df_train = regexTokenizer.transform(df_train).select('label', 'tokens')"
   ]
  },
  {
   "cell_type": "code",
   "execution_count": 7,
   "metadata": {},
   "outputs": [],
   "source": [
    "#remove stopwords\n",
    "remover = StopWordsRemover(inputCol=\"tokens\", outputCol=\"tokens_filtered\")\n",
    "df_train = remover.transform(df_train).select('label', 'tokens_filtered')"
   ]
  },
  {
   "cell_type": "code",
   "execution_count": 8,
   "metadata": {},
   "outputs": [
    {
     "data": {
      "text/plain": [
       "[Row(label=3.0, tokens_filtered=['tv', 'future', 'hands', 'viewers', 'home', 'theatre', 'systems', 'plasma', 'high', 'definition', 'tvs', 'digital', 'video', 'recorders', 'moving', 'living', 'room', 'way', 'people', 'watch', 'tv', 'radically', 'different', 'five', 'years', 'time', 'according', 'expert', 'panel', 'gathered', 'annual', 'consumer', 'electronics', 'show', 'las', 'vegas', 'discuss', 'new', 'technologies', 'impact', 'one', 'favourite', 'pastimes', 'us', 'leading', 'trend', 'programmes', 'content', 'delivered', 'viewers', 'via', 'home', 'networks', 'cable', 'satellite', 'telecoms', 'companies', 'broadband', 'service', 'providers', 'front', 'rooms', 'portable', 'devices', 'one', 'talked', 'technologies', 'ces', 'digital', 'personal', 'video', 'recorders', 'dvr', 'pvr', 'set', 'top', 'boxes', 'like', 'us', 'tivo', 'uk', 'sky', 'system', 'allow', 'people', 'record', 'store', 'play', 'pause', 'forward', 'wind', 'tv', 'programmes', 'want', 'essentially', 'technology', 'allows', 'much', 'personalised', 'tv', 'also', 'built', 'high', 'definition', 'tv', 'sets', 'big', 'business', 'japan', 'us', 'slower', 'take', 'europe', 'lack', 'high', 'definition', 'programming', 'people', 'forward', 'wind', 'adverts', 'also', 'forget', 'abiding', 'network', 'channel', 'schedules', 'putting', 'together', 'la', 'carte', 'entertainment', 'us', 'networks', 'cable', 'satellite', 'companies', 'worried', 'means', 'terms', 'advertising', 'revenues', 'well', 'brand', 'identity', 'viewer', 'loyalty', 'channels', 'although', 'us', 'leads', 'technology', 'moment', 'also', 'concern', 'raised', 'europe', 'particularly', 'growing', 'uptake', 'services', 'like', 'sky', 'happens', 'today', 'see', 'nine', 'months', 'years', 'time', 'uk', 'adam', 'hume', 'bbc', 'broadcast', 'futurologist', 'told', 'bbc', 'news', 'website', 'likes', 'bbc', 'issues', 'lost', 'advertising', 'revenue', 'yet', 'pressing', 'issue', 'moment', 'commercial', 'uk', 'broadcasters', 'brand', 'loyalty', 'important', 'everyone', 'talking', 'content', 'brands', 'rather', 'network', 'brands', 'said', 'tim', 'hanlon', 'brand', 'communications', 'firm', 'starcom', 'mediavest', 'reality', 'broadband', 'connections', 'anybody', 'producer', 'content', 'added', 'challenge', 'hard', 'promote', 'programme', 'much', 'choice', 'means', 'said', 'stacey', 'jolna', 'senior', 'vice', 'president', 'tv', 'guide', 'tv', 'group', 'way', 'people', 'find', 'content', 'want', 'watch', 'simplified', 'tv', 'viewers', 'means', 'networks', 'us', 'terms', 'channels', 'take', 'leaf', 'google', 'book', 'search', 'engine', 'future', 'instead', 'scheduler', 'help', 'people', 'find', 'want', 'watch', 'kind', 'channel', 'model', 'might', 'work', 'younger', 'ipod', 'generation', 'used', 'taking', 'control', 'gadgets', 'play', 'might', 'suit', 'everyone', 'panel', 'recognised', 'older', 'generations', 'comfortable', 'familiar', 'schedules', 'channel', 'brands', 'know', 'getting', 'perhaps', 'want', 'much', 'choice', 'put', 'hands', 'mr', 'hanlon', 'suggested', 'end', 'kids', 'diapers', 'pushing', 'buttons', 'already', 'everything', 'possible', 'available', 'said', 'mr', 'hanlon', 'ultimately', 'consumer', 'tell', 'market', 'want', '50', '000', 'new', 'gadgets', 'technologies', 'showcased', 'ces', 'many', 'enhancing', 'tv', 'watching', 'experience', 'high', 'definition', 'tv', 'sets', 'everywhere', 'many', 'new', 'models', 'lcd', 'liquid', 'crystal', 'display', 'tvs', 'launched', 'dvr', 'capability', 'built', 'instead', 'external', 'boxes', 'one', 'example', 'launched', 'show', 'humax', '26', 'inch', 'lcd', 'tv', '80', 'hour', 'tivo', 'dvr', 'dvd', 'recorder', 'one', 'us', 'biggest', 'satellite', 'tv', 'companies', 'directtv', 'even', 'launched', 'branded', 'dvr', 'show', '100', 'hours', 'recording', 'capability', 'instant', 'replay', 'search', 'function', 'set', 'pause', 'rewind', 'tv', '90', 'hours', 'microsoft', 'chief', 'bill', 'gates', 'announced', 'pre', 'show', 'keynote', 'speech', 'partnership', 'tivo', 'called', 'tivotogo', 'means', 'people', 'play', 'recorded', 'programmes', 'windows', 'pcs', 'mobile', 'devices', 'reflect', 'increasing', 'trend', 'freeing', 'multimedia', 'people', 'watch', 'want', 'want']),\n",
       " Row(label=0.0, tokens_filtered=['yeading', 'face', 'newcastle', 'fa', 'cup', 'premiership', 'side', 'newcastle', 'united', 'face', 'trip', 'ryman', 'premier', 'league', 'leaders', 'yeading', 'fa', 'cup', 'third', 'round', 'game', 'arguably', 'highlight', 'draw', 'potential', 'money', 'spinner', 'non', 'league', 'yeading', 'beat', 'slough', 'second', 'round', 'conference', 'side', 'exeter', 'city', 'knocked', 'doncaster', 'saturday', 'travel', 'old', 'trafford', 'meet', 'holders', 'manchester', 'united', 'january', 'arsenal', 'drawn', 'home', 'stoke', 'chelsea', 'play', 'host', 'scunthorpe', 'non', 'league', 'side', 'draw', 'hinckley', 'united', 'held', 'brentford', 'goalless', 'draw', 'sunday', 'meet', 'league', 'one', 'leaders', 'luton', 'win', 'replay', 'martin', 'allen', 'team', 'griffin', 'park', 'number', 'premiership', 'teams', 'face', 'difficult', 'away', 'games', 'championship', 'sides', 'weekend', '8', '9', 'january', 'third', 'placed', 'everton', 'visit', 'plymouth', 'liverpool', 'travel', 'burnley', 'crystal', 'palace', 'go', 'sunderland', 'fulham', 'face', 'carling', 'cup', 'semi', 'finalists', 'watford', 'bolton', 'meet', 'ipswich', 'aston', 'villa', 'drawn', 'sheffield', 'united', 'premiership', 'strugglers', 'norwich', 'blackburn', 'west', 'brom', 'away', 'west', 'ham', 'cardiff', 'preston', 'north', 'end', 'respectively', 'southampton', 'visit', 'northampton', 'already', 'beaten', 'league', 'two', 'side', 'carling', 'cup', 'earlier', 'season', 'middlesbrough', 'drawn', 'away', 'either', 'swindon', 'notts', 'county', 'spurs', 'entertain', 'brighton', 'white', 'hart', 'lane', 'arsenal', 'v', 'stoke', 'swindon', 'notts', 'co', 'v', 'middlesbrough', 'man', 'utd', 'v', 'exeter', 'plymouth', 'v', 'everton', 'leicester', 'v', 'blackpool', 'derby', 'v', 'wigan', 'sunderland', 'v', 'crystal', 'palace', 'wolves', 'v', 'millwall', 'yeading', 'v', 'newcastle', 'hull', 'v', 'colchester', 'tottenham', 'v', 'brighton', 'reading', 'v', 'stockport', 'swansea', 'birmingham', 'v', 'leeds', 'hartlepool', 'v', 'boston', 'milton', 'keynes', 'dons', 'v', 'peterborough', 'oldham', 'v', 'man', 'city', 'chelsea', 'v', 'scunthorpe', 'cardiff', 'v', 'blackburn', 'charlton', 'v', 'rochdale', 'west', 'ham', 'v', 'norwich', 'sheff', 'utd', 'v', 'aston', 'villa', 'preston', 'v', 'west', 'brom', 'rotherham', 'v', 'yeovil', 'burnley', 'v', 'liverpool', 'bournemouth', 'v', 'chester', 'coventry', 'v', 'crewe', 'watford', 'v', 'fulham', 'ipswich', 'v', 'bolton', 'portsmouth', 'v', 'gillingham', 'northampton', 'v', 'southampton', 'qpr', 'v', 'nottm', 'forest', 'luton', 'v', 'hinckley', 'brentford', 'matches', 'played', 'weekend', '8', '9', 'january']),\n",
       " Row(label=4.0, tokens_filtered=['ocean', 'twelve', 'raids', 'box', 'office', 'ocean', 'twelve', 'crime', 'caper', 'sequel', 'starring', 'george', 'clooney', 'brad', 'pitt', 'julia', 'roberts', 'gone', 'straight', 'number', 'one', 'us', 'box', 'office', 'chart', 'took', '40', '8m', '21m', 'weekend', 'ticket', 'sales', 'according', 'studio', 'estimates', 'sequel', 'follows', 'master', 'criminals', 'try', 'pull', 'three', 'major', 'heists', 'across', 'europe', 'knocked', 'last', 'week', 'number', 'one', 'national', 'treasure', 'third', 'place', 'wesley', 'snipes', 'blade', 'trinity', 'second', 'taking', '16', '1m', '8', '4m', 'rounding', 'top', 'five', 'animated', 'fable', 'polar', 'express', 'starring', 'tom', 'hanks', 'festive', 'comedy', 'christmas', 'kranks', 'ocean', 'twelve', 'box', 'office', 'triumph', 'marks', 'fourth', 'biggest', 'opening', 'december', 'release', 'us', 'three', 'films', 'lord', 'rings', 'trilogy', 'sequel', 'narrowly', 'beat', '2001', 'predecessor', 'ocean', 'eleven', 'took', '38', '1m', '19', '8m', 'opening', 'weekend', '184m', '95', '8m', 'total', 'remake', '1960s', 'film', 'starring', 'frank', 'sinatra', 'rat', 'pack', 'ocean', 'eleven', 'directed', 'oscar', 'winning', 'director', 'steven', 'soderbergh', 'soderbergh', 'returns', 'direct', 'hit', 'sequel', 'reunites', 'clooney', 'pitt', 'roberts', 'matt', 'damon', 'andy', 'garcia', 'elliott', 'gould', 'catherine', 'zeta', 'jones', 'joins', 'star', 'cast', 'fun', 'good', 'holiday', 'movie', 'said', 'dan', 'fellman', 'president', 'distribution', 'warner', 'bros', 'however', 'us', 'critics', 'less', 'complimentary', '110m', '57', '2m', 'project', 'los', 'angeles', 'times', 'labelling', 'dispiriting', 'vanity', 'project', 'milder', 'review', 'new', 'york', 'times', 'dubbed', 'sequel', 'unabashedly', 'trivial']),\n",
       " Row(label=2.0, tokens_filtered=['howard', 'hits', 'back', 'mongrel', 'jibe', 'michael', 'howard', 'said', 'claim', 'peter', 'hain', 'tory', 'leader', 'acting', 'like', 'attack', 'mongrel', 'shows', 'labour', 'rattled', 'opposition', 'upbeat', 'speech', 'party', 'spring', 'conference', 'brighton', 'said', 'labour', 'campaigning', 'tactics', 'proved', 'tories', 'hitting', 'home', 'mr', 'hain', 'made', 'claim', 'tory', 'tactics', 'anti', 'terror', 'bill', 'debate', 'something', 'tells', 'someone', 'somewhere', 'little', 'bit', 'rattled', 'mr', 'howard', 'said', 'mr', 'hain', 'leader', 'commons', 'told', 'bbc', 'radio', 'four', 'today', 'programme', 'mr', 'howard', 'stance', 'government', 'anti', 'terrorism', 'legislation', 'putting', 'country', 'risk', 'accused', 'tory', 'leader', 'behaving', 'like', 'attack', 'mongrel', 'playing', 'opposition', 'opposition', 'sake', 'mr', 'howard', 'told', 'party', 'labour', 'anything', 'say', 'anything', 'claim', 'anything', 'cling', 'office', 'costs', 'far', 'year', 'compared', 'fagin', 'shylock', 'flying', 'pig', 'morning', 'peter', 'hain', 'even', 'called', 'mongrel', 'know', 'something', 'tells', 'someone', 'somewhere', 'little', 'bit', 'rattled', 'environment', 'secretary', 'margaret', 'beckett', 'rejected', 'mr', 'howard', 'comment', 'telling', 'radio', '4', 'pm', 'programme', 'labour', 'rattled', 'real', 'duty', 'try', 'get', 'people', 'focus', 'michael', 'howard', 'record', 'proposals', 'trying', 'put', 'forward', 'country', 'also', 'many', 'examples', 'seeing', 'believe', 'really', 'poor', 'judgement', 'behalf', 'mr', 'howard', 'said', 'tory', 'policies', 'schools', 'taxes', 'immigration', 'crime', 'striking', 'chord', 'voters', 'since', 'beginning', 'year', 'election', 'year', 've', 'making', 'political', 'weather', 'told', 'party', 'conference', 'mr', 'howard', 'denied', 'playing', 'politics', 'raising', 'case', 'margaret', 'dixon', 'whose', 'operation', 'cancelled', 'seven', 'times', 'grabbed', 'headlines', 'party', 'two', 'weeks', 'ago', 'hit', 'back', 'labour', 'claims', 'used', 'mrs', 'dixon', 'human', 'shield', 'human', 'shield', 'mr', 'blair', 'human', 'mr', 'howard', 'said', 'party', 'plans', 'immigration', 'quotas', 'also', 'focus', 'much', 'media', 'coverage', 'racist', 'common', 'sense', 'pledged', 'cleaner', 'hospitals', 'better', 'school', 'discipline', 'promise', 'get', 'rid', 'political', 'correctness', 'national', 'curriculum', 'give', 'everyone', 'chance', 'decent', 'state', 'education', 'come', 'ordinary', 'family', 'teenage', 'michael', 'howard', 'applying', 'cambridge', 'today', 'gordon', 'brown', 'love', 'stressed', 'party', 'commitment', 'cut', 'taxes', 'red', 'tape', 'increase', 'basic', 'state', 'pension', 'line', 'earnings', 'finished', 'personal', 'appeal', 'party', 'activists', 'go', 'win', 'next', 'election', 'one', 'day', 'able', 'tell', 'children', 'grandchildren', 'tell', 'mine', 'bit', 'played', 'part', 'helped', 'win', 'famous', 'election', 'election', 'transformed', 'country', 'better', 'labour', 'election', 'co', 'ordinator', 'alan', 'milburn', 'said', 'michael', 'howard', 'speech', 'today', 'confirms', 'always', 'said', 'strategy', 'opportunism', 'forward', 'vision', 'country', 'reference', 'appearance', 'mr', 'howard', 'family', 'conference', 'stage', 'mr', 'milburn', 'said', 'michael', 'howard', 'perfectly', 'entitled', 'pose', 'family', 'today', 'hard', 'working', 'families', 'across', 'britain', 'damaged', 'plan', 'cut', '35bn', 'public', 'spending']),\n",
       " Row(label=2.0, tokens_filtered=['blair', 'prepares', 'name', 'poll', 'date', 'tony', 'blair', 'likely', 'name', '5', 'may', 'election', 'day', 'parliament', 'returns', 'easter', 'break', 'bbc', 'political', 'editor', 'learned', 'andrew', 'marr', 'says', 'mr', 'blair', 'ask', 'queen', '4', '5', 'april', 'dissolve', 'parliament', 'end', 'week', 'mr', 'blair', 'far', 'resisted', 'calls', 'name', 'day', 'parties', 'stepped', 'campaigning', 'recently', 'downing', 'street', 'drawn', 'claim', 'saying', 'election', 'timing', 'matter', 'prime', 'minister', 'number', '10', 'spokeswoman', 'say', 'announce', 'election', 'wants', 'announce', 'election', 'move', 'signal', 'frantic', 'week', 'westminster', 'government', 'likely', 'try', 'get', 'key', 'legislation', 'parliament', 'government', 'needs', 'finance', 'bill', 'covering', 'budget', 'plans', 'passed', 'commons', 'closes', 'business', 'end', 'session', '7', 'april', 'also', 'seek', 'push', 'serious', 'organised', 'crime', 'bill', 'id', 'cards', 'bill', 'mr', 'marr', 'said', 'wednesday', 'today', 'programme', 'almost', 'nobody', 'senior', 'level', 'inside', 'government', 'parliament', 'doesn', 'expect', 'election', 'called', '4', '5', 'april', 'soon', 'commons', 'back', 'short', 'easter', 'recess', 'tony', 'blair', 'whips', 'palace', 'asks', 'queen', 'dissolve', 'parliament', 're', 'going', 'labour', 'government', 'officially', 'june', '2006', 'hold', 'general', 'election', 'recent', 'years', 'governments', 'favoured', 'four', 'year', 'terms'])]"
      ]
     },
     "execution_count": 8,
     "metadata": {},
     "output_type": "execute_result"
    }
   ],
   "source": [
    "df_train.head(5)"
   ]
  },
  {
   "cell_type": "code",
   "execution_count": 9,
   "metadata": {},
   "outputs": [],
   "source": [
    "#Count frequency of words in document\n",
    "hashingTF = HashingTF(inputCol=\"tokens_filtered\", outputCol=\"tf\")\n",
    "df_train = hashingTF.transform(df_train)"
   ]
  },
  {
   "cell_type": "code",
   "execution_count": 10,
   "metadata": {},
   "outputs": [],
   "source": [
    "#transform token frequencies in to tf-idf\n",
    "idf = IDF(inputCol=\"tf\", outputCol=\"tfidf\", minDocFreq=5)\n",
    "idfModel = idf.fit(df_train) \n",
    "df_train = idfModel.transform(df_train)"
   ]
  },
  {
   "cell_type": "code",
   "execution_count": 11,
   "metadata": {},
   "outputs": [],
   "source": [
    "#train model\n",
    "mlr = LogisticRegression(featuresCol=\"tfidf\", labelCol='label', family=\"multinomial\", regParam=0.1)\n",
    "mlrModel = mlr.fit(df_train)"
   ]
  },
  {
   "cell_type": "code",
   "execution_count": null,
   "metadata": {},
   "outputs": [],
   "source": [
    "# #find train accuracy\n",
    "# df_train = mlrModel.transform(df_train)\n",
    "# lp = df_train.select('label', 'prediction')\n",
    "# evaluator = MulticlassClassificationEvaluator()\n",
    "# evaluator.evaluate(lp, {evaluator.metricName: \"accuracy\"})"
   ]
  },
  {
   "cell_type": "code",
   "execution_count": 12,
   "metadata": {},
   "outputs": [],
   "source": [
    "#test\n",
    "df_test = indexer.transform(df_test)\n",
    "df_test = regexTokenizer.transform(df_test).select('label', 'tokens')\n",
    "df_test = remover.transform(df_test).select('label', 'tokens_filtered')\n",
    "df_test = hashingTF.transform(df_test)\n",
    "df_test = idfModel.transform(df_test)"
   ]
  },
  {
   "cell_type": "code",
   "execution_count": 13,
   "metadata": {},
   "outputs": [
    {
     "data": {
      "text/plain": [
       "0.9737274220032841"
      ]
     },
     "execution_count": 13,
     "metadata": {},
     "output_type": "execute_result"
    }
   ],
   "source": [
    "#find test accuracy\n",
    "df_test = mlrModel.transform(df_test)\n",
    "lp = df_test.select('label', 'prediction')\n",
    "evaluator = MulticlassClassificationEvaluator()\n",
    "evaluator.evaluate(lp, {evaluator.metricName: \"accuracy\"})"
   ]
  },
  {
   "cell_type": "markdown",
   "metadata": {},
   "source": [
    "### TO DO:\n",
    "\n",
    "#### 1) Hyper parameter Tuning using grid search\n",
    "#### 2) Compare with other classifiers"
   ]
  },
  {
   "cell_type": "code",
   "execution_count": null,
   "metadata": {},
   "outputs": [],
   "source": []
  }
 ],
 "metadata": {
  "kernelspec": {
   "display_name": "Python 3",
   "language": "python",
   "name": "python3"
  },
  "language_info": {
   "codemirror_mode": {
    "name": "ipython",
    "version": 3
   },
   "file_extension": ".py",
   "mimetype": "text/x-python",
   "name": "python",
   "nbconvert_exporter": "python",
   "pygments_lexer": "ipython3",
   "version": "3.7.4"
  }
 },
 "nbformat": 4,
 "nbformat_minor": 2
}
